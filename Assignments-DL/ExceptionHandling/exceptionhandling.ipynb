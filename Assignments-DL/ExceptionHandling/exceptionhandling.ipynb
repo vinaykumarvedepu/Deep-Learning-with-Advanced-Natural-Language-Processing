{
 "cells": [
  {
   "cell_type": "markdown",
   "metadata": {},
   "source": [
    "# Task1\n",
    "### 1. Write a function to compute 5/0 and use try/except to catch the exceptions."
   ]
  },
  {
   "cell_type": "code",
   "execution_count": 6,
   "metadata": {},
   "outputs": [
    {
     "name": "stdout",
     "output_type": "stream",
     "text": [
      "ERROR: division by zero\n"
     ]
    }
   ],
   "source": [
    "def catch_ex():\n",
    "    try:\n",
    "        x= 5/0\n",
    "        print(\"Division successful\")\n",
    "    except Exception as e:\n",
    "        print(\"ERROR:\",e)\n",
    "\n",
    "catch_ex()"
   ]
  },
  {
   "cell_type": "markdown",
   "metadata": {},
   "source": [
    "### 2. Implement a Python program to generate all sentences where subject is in [\"Americans\", \"Indians\"] and verb is in [\"Play\", \"watch\"] and the object is in [\"Baseball\",\"cricket\"].\n",
    "\n",
    "### Hint: Subject,Verb and Object should be declared in the program as shown below.\n",
    "\n",
    "### subjects=[\"Americans \",\"Indians\"]\n",
    "### verbs=[\"play\",\"watch\"]\n",
    "### objects=[\"Baseball\",\"Cricket\"]\n",
    "\n",
    "### Output should come as below:\n",
    "### Americans play Baseball.\n",
    "### Americans play Cricket.\n",
    "### Americans watch Baseball.\n",
    "### Americans watch Cricket.\n",
    "### Indians play Baseball.\n",
    "### Indians play Cricket.\n",
    "### Indians watch Baseball.\n",
    "### Indians watch Cricket."
   ]
  },
  {
   "cell_type": "code",
   "execution_count": 9,
   "metadata": {},
   "outputs": [
    {
     "name": "stdout",
     "output_type": "stream",
     "text": [
      "Americans play Baseball \n",
      "Americans play Cricket \n",
      "Americans watch Baseball \n",
      "Americans watch Cricket \n",
      "Indians play Baseball \n",
      "Indians play Cricket \n",
      "Indians watch Baseball \n",
      "Indians watch Cricket \n"
     ]
    }
   ],
   "source": [
    "subjects=[\"Americans \",\"Indians \"]\n",
    "verbs=[\"play \",\"watch \"]\n",
    "objects=[\"Baseball \",\"Cricket \"]\n",
    "result = [ print(s+\"\"+v+\"\"+o) for s in subjects for v in verbs for o in objects]"
   ]
  }
 ],
 "metadata": {
  "kernelspec": {
   "display_name": "Python 3",
   "language": "python",
   "name": "python3"
  },
  "language_info": {
   "codemirror_mode": {
    "name": "ipython",
    "version": 3
   },
   "file_extension": ".py",
   "mimetype": "text/x-python",
   "name": "python",
   "nbconvert_exporter": "python",
   "pygments_lexer": "ipython3",
   "version": "3.7.6"
  }
 },
 "nbformat": 4,
 "nbformat_minor": 2
}
